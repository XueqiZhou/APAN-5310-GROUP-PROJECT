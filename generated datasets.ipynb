{
 "cells": [
  {
   "cell_type": "code",
   "execution_count": null,
   "id": "bc8c34e6",
   "metadata": {},
   "outputs": [],
   "source": [
    "# users\n",
    "users = []\n",
    "for i in range(1, 101):\n",
    "    first_name = fake.first_name()\n",
    "    last_name = fake.last_name()\n",
    "    users.append((\n",
    "        i,\n",
    "        first_name,\n",
    "        last_name,\n",
    "        random.choice([\"Male\", \"Female\", \"Other\"]),\n",
    "        fake.date_between(start_date=\"-70y\", end_date=\"-18y\"),\n",
    "        fake.email(),\n",
    "        fake.phone_number(),\n",
    "        fake.credit_card_number(card_type=\"mastercard\"),\n",
    "        random.randint(1, 100)\n",
    "    ))\n",
    "users_df = pd.DataFrame(users, columns=[\"user_id\", \"first_name\", \"last_name\", \"gender\", \"dob\", \"email\", \"phone_number\", \"credit_card\", \"address_id\"])"
   ]
  },
  {
   "cell_type": "code",
   "execution_count": null,
   "id": "cfbc45ff",
   "metadata": {},
   "outputs": [],
   "source": [
    "# vehicles\n",
    "vehicles = []\n",
    "for _ in range(100):\n",
    "    vehicles.append((\n",
    "        fake.bothify(text='?#??#?##?######', letters='ABCDEFGHIJKLMNOPQRSTUVWXYZ'),\n",
    "        fake.license_plate(),\n",
    "        fake.company(),\n",
    "        vehicle_year_make_model(),\n",
    "        random.randint(1, 100)\n",
    "    ))\n",
    "vehicles_df = pd.DataFrame(vehicles, columns=[\"vin_number\", \"plate_number\", \"manufacturer\", \"model\", \"company_id\"])"
   ]
  },
  {
   "cell_type": "code",
   "execution_count": null,
   "id": "55b9f675",
   "metadata": {},
   "outputs": [],
   "source": [
    "# vehicle_reservation\n",
    "vehicle_reservation = []\n",
    "for i in range(1, 101):\n",
    "    pick_up_time = fake.date_time_between(start_date=\"-2y\", end_date=\"now\")\n",
    "    return_time = pick_up_time + timedelta(hours=random.randint(1, 168))\n",
    "    vehicle_reservation.append((\n",
    "        i,\n",
    "        random.choice(vehicles_df[\"vin_number\"]),\n",
    "        random.randint(1, 100),\n",
    "        pick_up_time,\n",
    "        return_time,\n",
    "        random.randint(1, 100),\n",
    "        random.randint(1, 100),\n",
    "        round(random.uniform(10, 50), 2)\n",
    "    ))\n",
    "vehicle_reservation_df = pd.DataFrame(vehicle_reservation, columns=[\"vehicle_reservation_id\", \"vin_number\", \"user_id\", \"pick_up_time\", \"return_time\", \"pick_up_location\", \"return"
   ]
  },
  {
   "cell_type": "code",
   "execution_count": null,
   "id": "caac8b8e",
   "metadata": {},
   "outputs": [],
   "source": [
    "# flight_reservation\n",
    "flight_reservation = []\n",
    "for i in range(1, 101):\n",
    "    flight_reservation.append((\n",
    "        i,\n",
    "        random.randint(1, 100)\n",
    "    ))\n",
    "flight_reservation_df = pd.DataFrame(flight_reservation, columns=[\"flight_reservation_id\", \"user_id\"])\n"
   ]
  },
  {
   "cell_type": "code",
   "execution_count": null,
   "id": "31cf82fe",
   "metadata": {},
   "outputs": [],
   "source": [
    "# flight_passenger\n",
    "flight_passenger = []\n",
    "for _ in range(100):\n",
    "    flight_passenger.append((\n",
    "        random.randint(1, 100),\n",
    "        fake.first_name(),\n",
    "        fake.last_name(),\n",
    "        fake.unique.random_number(digits=8, fix_len=True)\n",
    "    ))\n",
    "flight_passenger_df = pd.DataFrame(flight_passenger, columns=[\"flight_reservation_id\", \"first_name\", \"last_name\", \"identity_number\"])\n",
    "\n",
    "# flight_segment\n",
    "flight_segment = []\n",
    "for _ in range(100):\n",
    "    departure_time = fake.date_time_between(start_date=\"-2y\", end_date=\"now\")\n",
    "    arrival_time = departure_time + timedelta(hours=random.randint(1, 14))\n",
    "    flight_segment.append((\n",
    "        random.randint(1, 100),\n",
    "        fake.bothify(text='??####', letters='ABCDEFGHIJKLMNOPQRSTUVWXYZ'),\n",
    "        random.choice(airports_df[\"airport_id\"]),\n",
    "        random.choice(airports_df[\"airport_id\"]),\n",
    "        random.randint(1, 100),\n",
    "        departure_time,\n",
    "        arrival_time,\n",
    "        random.choice([\"Economy\", \"Business\", \"First Class\"])\n",
    "    ))\n",
    "flight_segment_df = pd.DataFrame(flight_segment, columns=[\"reservation_id\", \"flight_number\", \"airport_dept\", \"airport_arvl\", \"airplane_id\", \"take_off_time\", \"landing_time\", \"seat_type\"])\n"
   ]
  },
  {
   "cell_type": "code",
   "execution_count": null,
   "id": "3bef4cc3",
   "metadata": {},
   "outputs": [],
   "source": [
    "\n",
    "# airplanes\n",
    "airplanes = []\n",
    "for _ in range(100):\n",
    "    airplanes.append((\n",
    "        random.randint(1, 1000),  # airplane_id\n",
    "        fake.catch_phrase(),      # aircraft_type\n",
    "        fake.company(),           # manufacturer\n",
    "        fake.word(),              # model\n",
    "        random.randint(50, 400),  # number_of_seats\n",
    "        random.randint(1, 100)    # company_id\n",
    "    ))\n",
    "airplanes_df = pd.DataFrame(airplanes, columns=[\"airplane_id\", \"aircraft_type\", \"manufacturer\", \"model\", \"number_of_seats\", \"company_id\"])"
   ]
  },
  {
   "cell_type": "code",
   "execution_count": null,
   "id": "5b86eccd",
   "metadata": {},
   "outputs": [],
   "source": [
    "import os\n",
    "\n",
    "directory = \"D:\\\\Downloads\\\\GZT\"\n",
    "\n",
    "users_df.to_csv(os.path.join(directory, \"usersnoDOB.csv\"), index=False)\n",
    "vehicles_df.to_csv(os.path.join(directory, \"vehicles.csv\"), index=False)\n",
    "airplanes_df.to_csv(os.path.join(directory, \"airplanes.csv\"), index=False)\n",
    "vehicle_reservations_df.to_csv(os.path.join(directory, \"vehicle_reservations.csv\"), index=False)\n",
    "airports_df.to_csv(os.path.join(directory, \"airports.csv\"), index=False)\n",
    "flight_reservations_df.to_csv(os.path.join(directory, \"flight_reservations.csv\"), index=False)\n",
    "flight_passenger_df.to_csv(os.path.join(directory, \"flight_passenger.csv\"), index=False)\n",
    "flight_segment_df.to_csv(os.path.join(directory, \"flight_segment.csv\"), index=False)"
   ]
  }
 ],
 "metadata": {
  "kernelspec": {
   "display_name": "Python 3 (ipykernel)",
   "language": "python",
   "name": "python3"
  },
  "language_info": {
   "codemirror_mode": {
    "name": "ipython",
    "version": 3
   },
   "file_extension": ".py",
   "mimetype": "text/x-python",
   "name": "python",
   "nbconvert_exporter": "python",
   "pygments_lexer": "ipython3",
   "version": "3.7.4"
  }
 },
 "nbformat": 4,
 "nbformat_minor": 5
}
